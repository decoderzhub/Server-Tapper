{
 "cells": [
  {
   "cell_type": "code",
   "execution_count": 1,
   "id": "189ecd51-9616-4c34-b67a-fbc0bd938e8b",
   "metadata": {},
   "outputs": [],
   "source": [
    "from datetime import datetime, timedelta\n",
    "import random\n",
    "import time\n",
    "from multiprocessing import Process, Pool, Manager\n",
    "import sys\n",
    "import schedule\n",
    "import pandas as pd"
   ]
  },
  {
   "cell_type": "code",
   "execution_count": 2,
   "id": "74db0e10-718a-4899-b60a-6c5cb02d3c51",
   "metadata": {},
   "outputs": [],
   "source": [
    "global lis\n",
    "lis = []"
   ]
  },
  {
   "cell_type": "code",
   "execution_count": 3,
   "id": "0efd52c8-def6-4dcb-a36e-1a446ec24aaa",
   "metadata": {},
   "outputs": [],
   "source": [
    "def hi_time(letter):\n",
    "    df = pd.DataFrame(columns = ['Letters','Time'])\n",
    "    lis = []\n",
    "    iterations = random.randint(10,30)\n",
    "    iterations_left = iterations\n",
    "    print(letter + ' There will be ' + str(iterations) + ' iterations.')\n",
    "    x = 0 \n",
    "    while x < iterations:\n",
    "        sleep_time = random.randint(3,20)\n",
    "        x = x + 1\n",
    "        iterations_left = iterations_left - 1\n",
    "        print(letter + ' It is ' + str(datetime.now()) + '. Wait time is ' + str(sleep_time) + ' seconds and there are ' + str(iterations_left) + ' iterations left.')\n",
    "        time.sleep(sleep_time)\n",
    "        lis.append(letter + str(datetime.now()))\n",
    "        new_row = {'Letters':letter,'Time':datetime.now()}\n",
    "        df = df.append(new_row, ignore_index = True)\n",
    "        if iterations_left == 0:\n",
    "            print('***' + letter + 'DONE***')\n",
    "            #print(lis)\n",
    "            #print(df)\n",
    "            go = False\n",
    "            while go == False:\n",
    "                try:\n",
    "                    with open(\"test.txt\", \"a\") as f:\n",
    "                        for x in lis:\n",
    "                            f.write(x + '\\n')\n",
    "                    f.close()\n",
    "                    go = True\n",
    "                except:\n",
    "                    time.sleep(5)\n",
    "            return df  \n",
    "        else:\n",
    "            pass"
   ]
  },
  {
   "cell_type": "code",
   "execution_count": 4,
   "id": "5b3ceded-10e9-4b2f-be6e-e9e88dc98b06",
   "metadata": {},
   "outputs": [],
   "source": [
    "def main_pool():\n",
    "    letters = ['AAA','BBB','CCC']\n",
    "    with Manager() as manager:\n",
    "        #lis = manager.list()\n",
    "        with Pool() as pool:\n",
    "            res = pool.map(hi_time, letters)\n",
    "            outputs = [result for result in res]\n",
    "            pool.close()\n",
    "            #full = []\n",
    "            #for x in outputs:\n",
    "                #full.extend(x)\n",
    "            result = pd.concat(outputs)\n",
    "            print(result)\n",
    "            #return result\n",
    "            \n"
   ]
  },
  {
   "cell_type": "code",
   "execution_count": null,
   "id": "46e9727f-0ff4-4ef3-94b8-e5843bbc53a3",
   "metadata": {},
   "outputs": [],
   "source": []
  },
  {
   "cell_type": "code",
   "execution_count": null,
   "id": "fd6badc1-704e-4fec-887d-41e58db7267a",
   "metadata": {},
   "outputs": [],
   "source": []
  },
  {
   "cell_type": "code",
   "execution_count": 5,
   "id": "a9d62c18-b72a-4fbd-b7b1-9f1420f52424",
   "metadata": {},
   "outputs": [
    {
     "data": {
      "text/plain": [
       "Every 4 minutes do main_pool() (last run: [never], next run: 2021-12-01 23:32:05)"
      ]
     },
     "execution_count": 5,
     "metadata": {},
     "output_type": "execute_result"
    }
   ],
   "source": [
    "schedule.every(4).minutes.do(main_pool)"
   ]
  },
  {
   "cell_type": "code",
   "execution_count": null,
   "id": "245ad672-0ab3-4b54-a3d9-cf09ce5736a2",
   "metadata": {},
   "outputs": [
    {
     "name": "stdout",
     "output_type": "stream",
     "text": [
      "AAA There will be 29 iterations.\n",
      "CCC There will be 17 iterations.\n",
      "BBB There will be 25 iterations.\n",
      "BBB It is 2021-12-01 23:32:05.836474. Wait time is 16 seconds and there are 24 iterations left.\n",
      "CCC It is 2021-12-01 23:32:05.835852. Wait time is 4 seconds and there are 16 iterations left.\n",
      "AAA It is 2021-12-01 23:32:05.838499. Wait time is 13 seconds and there are 28 iterations left.\n",
      "CCC It is 2021-12-01 23:32:09.850624. Wait time is 8 seconds and there are 15 iterations left.\n",
      "CCC It is 2021-12-01 23:32:17.863413. Wait time is 16 seconds and there are 14 iterations left.\n",
      "AAA It is 2021-12-01 23:32:18.861712. Wait time is 5 seconds and there are 27 iterations left.\n",
      "BBB It is 2021-12-01 23:32:21.864547. Wait time is 9 seconds and there are 23 iterations left.\n",
      "AAA It is 2021-12-01 23:32:23.871692. Wait time is 10 seconds and there are 26 iterations left.\n",
      "BBB It is 2021-12-01 23:32:30.878520. Wait time is 6 seconds and there are 22 iterations left.\n",
      "CCC It is 2021-12-01 23:32:33.883129. Wait time is 7 seconds and there are 13 iterations left.\n",
      "AAA It is 2021-12-01 23:32:33.886608. Wait time is 3 seconds and there are 25 iterations left.\n",
      "BBB It is 2021-12-01 23:32:36.889294. Wait time is 20 seconds and there are 21 iterations left.\n",
      "AAA It is 2021-12-01 23:32:36.894724. Wait time is 3 seconds and there are 24 iterations left.\n",
      "AAA It is 2021-12-01 23:32:39.902105. Wait time is 18 seconds and there are 23 iterations left.\n",
      "CCC It is 2021-12-01 23:32:40.894221. Wait time is 10 seconds and there are 12 iterations left.\n",
      "CCC It is 2021-12-01 23:32:50.901337. Wait time is 16 seconds and there are 11 iterations left.\n",
      "BBB It is 2021-12-01 23:32:56.918456. Wait time is 10 seconds and there are 20 iterations left.\n",
      "AAA It is 2021-12-01 23:32:57.924305. Wait time is 12 seconds and there are 22 iterations left.\n",
      "CCC It is 2021-12-01 23:33:06.909621. Wait time is 16 seconds and there are 10 iterations left.\n",
      "BBB It is 2021-12-01 23:33:06.932400. Wait time is 5 seconds and there are 19 iterations left.\n",
      "AAA It is 2021-12-01 23:33:09.940453. Wait time is 15 seconds and there are 21 iterations left.\n",
      "BBB It is 2021-12-01 23:33:11.942318. Wait time is 6 seconds and there are 18 iterations left.\n",
      "BBB It is 2021-12-01 23:33:17.951880. Wait time is 18 seconds and there are 17 iterations left.\n",
      "CCC It is 2021-12-01 23:33:22.930418. Wait time is 3 seconds and there are 9 iterations left.\n",
      "AAA It is 2021-12-01 23:33:24.959459. Wait time is 3 seconds and there are 20 iterations left.\n",
      "CCC It is 2021-12-01 23:33:25.937345. Wait time is 3 seconds and there are 8 iterations left.\n",
      "AAA It is 2021-12-01 23:33:27.966361. Wait time is 8 seconds and there are 19 iterations left.\n",
      "CCC It is 2021-12-01 23:33:28.944768. Wait time is 4 seconds and there are 7 iterations left.\n",
      "CCC It is 2021-12-01 23:33:32.953665. Wait time is 9 seconds and there are 6 iterations left.\n",
      "BBB It is 2021-12-01 23:33:35.975332. Wait time is 19 seconds and there are 16 iterations left.\n",
      "AAA It is 2021-12-01 23:33:35.979010. Wait time is 20 seconds and there are 18 iterations left.\n",
      "CCC It is 2021-12-01 23:33:41.964860. Wait time is 19 seconds and there are 5 iterations left.\n",
      "BBB It is 2021-12-01 23:33:54.998823. Wait time is 10 seconds and there are 15 iterations left.\n",
      "AAA It is 2021-12-01 23:33:56.003477. Wait time is 15 seconds and there are 17 iterations left.\n",
      "CCC It is 2021-12-01 23:34:00.988580. Wait time is 6 seconds and there are 4 iterations left.\n",
      "BBB It is 2021-12-01 23:34:05.013415. Wait time is 12 seconds and there are 14 iterations left.\n",
      "CCC It is 2021-12-01 23:34:06.996550. Wait time is 7 seconds and there are 3 iterations left.\n",
      "AAA It is 2021-12-01 23:34:11.020742. Wait time is 14 seconds and there are 16 iterations left.\n",
      "CCC It is 2021-12-01 23:34:14.007321. Wait time is 9 seconds and there are 2 iterations left.\n",
      "BBB It is 2021-12-01 23:34:17.029738. Wait time is 7 seconds and there are 13 iterations left.\n",
      "CCC It is 2021-12-01 23:34:23.016526. Wait time is 3 seconds and there are 1 iterations left.\n",
      "BBB It is 2021-12-01 23:34:24.041409. Wait time is 8 seconds and there are 12 iterations left.\n",
      "AAA It is 2021-12-01 23:34:25.039728. Wait time is 8 seconds and there are 15 iterations left.\n",
      "CCC It is 2021-12-01 23:34:26.024234. Wait time is 14 seconds and there are 0 iterations left.\n",
      "BBB It is 2021-12-01 23:34:32.054503. Wait time is 12 seconds and there are 11 iterations left.\n",
      "AAA It is 2021-12-01 23:34:33.053397. Wait time is 12 seconds and there are 14 iterations left.\n",
      "***CCCDONE***\n",
      "BBB It is 2021-12-01 23:34:44.068708. Wait time is 6 seconds and there are 10 iterations left.\n",
      "AAA It is 2021-12-01 23:34:45.068438. Wait time is 5 seconds and there are 13 iterations left.\n",
      "BBB It is 2021-12-01 23:34:50.074121. Wait time is 11 seconds and there are 9 iterations left.\n",
      "AAA It is 2021-12-01 23:34:50.078969. Wait time is 14 seconds and there are 12 iterations left.\n",
      "BBB It is 2021-12-01 23:35:01.090088. Wait time is 12 seconds and there are 8 iterations left.\n",
      "AAA It is 2021-12-01 23:35:04.098397. Wait time is 18 seconds and there are 11 iterations left.\n",
      "BBB It is 2021-12-01 23:35:13.107404. Wait time is 5 seconds and there are 7 iterations left.\n",
      "BBB It is 2021-12-01 23:35:18.116249. Wait time is 10 seconds and there are 6 iterations left.\n",
      "AAA It is 2021-12-01 23:35:22.119999. Wait time is 17 seconds and there are 10 iterations left.\n",
      "BBB It is 2021-12-01 23:35:28.130420. Wait time is 7 seconds and there are 5 iterations left.\n",
      "BBB It is 2021-12-01 23:35:35.141485. Wait time is 5 seconds and there are 4 iterations left.\n",
      "AAA It is 2021-12-01 23:35:39.137104. Wait time is 18 seconds and there are 9 iterations left.\n",
      "BBB It is 2021-12-01 23:35:40.152022. Wait time is 6 seconds and there are 3 iterations left.\n",
      "BBB It is 2021-12-01 23:35:46.159745. Wait time is 18 seconds and there are 2 iterations left.\n",
      "AAA It is 2021-12-01 23:35:57.159311. Wait time is 20 seconds and there are 8 iterations left.\n",
      "BBB It is 2021-12-01 23:36:04.182701. Wait time is 8 seconds and there are 1 iterations left.\n",
      "BBB It is 2021-12-01 23:36:12.193319. Wait time is 6 seconds and there are 0 iterations left.\n",
      "AAA It is 2021-12-01 23:36:17.184306. Wait time is 13 seconds and there are 7 iterations left.\n",
      "***BBBDONE***\n",
      "AAA It is 2021-12-01 23:36:30.200311. Wait time is 10 seconds and there are 6 iterations left.\n",
      "AAA It is 2021-12-01 23:36:40.214630. Wait time is 15 seconds and there are 5 iterations left.\n",
      "AAA It is 2021-12-01 23:36:55.224908. Wait time is 9 seconds and there are 4 iterations left.\n",
      "AAA It is 2021-12-01 23:37:04.237452. Wait time is 20 seconds and there are 3 iterations left.\n",
      "AAA It is 2021-12-01 23:37:24.262682. Wait time is 3 seconds and there are 2 iterations left.\n"
     ]
    }
   ],
   "source": [
    "while True:\n",
    "    schedule.run_pending()\n",
    "    time.sleep(1)"
   ]
  },
  {
   "cell_type": "code",
   "execution_count": null,
   "id": "95a418d4-0221-4e7e-b38e-9a56e694b3bc",
   "metadata": {},
   "outputs": [],
   "source": []
  }
 ],
 "metadata": {
  "kernelspec": {
   "display_name": "Python 3",
   "language": "python",
   "name": "python3"
  },
  "language_info": {
   "codemirror_mode": {
    "name": "ipython",
    "version": 3
   },
   "file_extension": ".py",
   "mimetype": "text/x-python",
   "name": "python",
   "nbconvert_exporter": "python",
   "pygments_lexer": "ipython3",
   "version": "3.7.8"
  }
 },
 "nbformat": 4,
 "nbformat_minor": 5
}
